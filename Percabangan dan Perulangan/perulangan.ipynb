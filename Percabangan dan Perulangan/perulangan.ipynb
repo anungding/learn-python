{
 "cells": [
  {
   "cell_type": "markdown",
   "metadata": {},
   "source": [
    "### Perulangan\n",
    "Perulangan (loop) adalah cara mengulang kode secara otomatis tanpa harus ngetik ulang terus."
   ]
  },
  {
   "cell_type": "markdown",
   "metadata": {},
   "source": [
    "##### For Loop (Perulangan dengan Rentang Tertentu)\n"
   ]
  },
  {
   "cell_type": "code",
   "execution_count": 1,
   "metadata": {},
   "outputs": [
    {
     "name": "stdout",
     "output_type": "stream",
     "text": [
      "Halo!\n",
      "Halo!\n",
      "Halo!\n",
      "Halo!\n",
      "Halo!\n"
     ]
    }
   ],
   "source": [
    "for i in range(5):  # Mulai dari 0, ulang 5 kali (0,1,2,3,4)\n",
    "    print(\"Halo!\")\n"
   ]
  },
  {
   "cell_type": "code",
   "execution_count": 2,
   "metadata": {},
   "outputs": [
    {
     "name": "stdout",
     "output_type": "stream",
     "text": [
      "1\n",
      "3\n",
      "5\n",
      "7\n",
      "9\n"
     ]
    }
   ],
   "source": [
    "for i in range(1, 10, 2):  # Mulai dari 1, sampai <10, loncat 2\n",
    "    print(i)\n"
   ]
  },
  {
   "cell_type": "code",
   "execution_count": 3,
   "metadata": {},
   "outputs": [
    {
     "name": "stdout",
     "output_type": "stream",
     "text": [
      "Apel\n",
      "Jeruk\n",
      "Mangga\n"
     ]
    }
   ],
   "source": [
    "buah = [\"Apel\", \"Jeruk\", \"Mangga\"]\n",
    "for b in buah:\n",
    "    print(b)\n"
   ]
  },
  {
   "cell_type": "markdown",
   "metadata": {},
   "source": [
    "##### While Loop (Perulangan Berdasarkan Kondisi)\n",
    "While akan terus berjalan selama kondisi masih benar (True)."
   ]
  },
  {
   "cell_type": "code",
   "execution_count": null,
   "metadata": {},
   "outputs": [],
   "source": [
    "x = 1\n",
    "while x <= 5:\n",
    "    print(f\"Angka {x}\")\n",
    "    x += 1  # Jangan lupa tambah biar nggak loop terus!\n"
   ]
  },
  {
   "cell_type": "markdown",
   "metadata": {},
   "source": [
    "Contoh: Looping Sampai User Berhenti"
   ]
  },
  {
   "cell_type": "code",
   "execution_count": 5,
   "metadata": {},
   "outputs": [],
   "source": [
    "jawaban = \"\"\n",
    "while jawaban != \"stop\":\n",
    "    jawaban = input(\"Ketik 'stop' untuk berhenti: \")\n"
   ]
  }
 ],
 "metadata": {
  "kernelspec": {
   "display_name": "base",
   "language": "python",
   "name": "python3"
  },
  "language_info": {
   "codemirror_mode": {
    "name": "ipython",
    "version": 3
   },
   "file_extension": ".py",
   "mimetype": "text/x-python",
   "name": "python",
   "nbconvert_exporter": "python",
   "pygments_lexer": "ipython3",
   "version": "3.11.5"
  }
 },
 "nbformat": 4,
 "nbformat_minor": 2
}
