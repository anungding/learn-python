{
 "cells": [
  {
   "cell_type": "markdown",
   "metadata": {},
   "source": [
    "### Percabangan (if-elif-else)\n",
    "Percabangan digunakan untuk menjalankan kode tertentu berdasarkan kondisi yang diberikan.\n",
    "\n",
    "#### Struktur Dasar"
   ]
  },
  {
   "cell_type": "code",
   "execution_count": 2,
   "metadata": {},
   "outputs": [
    {
     "name": "stdout",
     "output_type": "stream",
     "text": [
      "Kamu masih remaja.\n"
     ]
    }
   ],
   "source": [
    "umur = int(input(\"Berapa umurmu? \"))\n",
    "\n",
    "if umur < 18:\n",
    "    print(\"Kamu masih remaja.\")\n",
    "elif umur < 60:\n",
    "    print(\"Kamu sudah dewasa.\")\n",
    "else:\n",
    "    print(\"Kamu sudah lanjut usia.\")\n"
   ]
  }
 ],
 "metadata": {
  "kernelspec": {
   "display_name": "base",
   "language": "python",
   "name": "python3"
  },
  "language_info": {
   "codemirror_mode": {
    "name": "ipython",
    "version": 3
   },
   "file_extension": ".py",
   "mimetype": "text/x-python",
   "name": "python",
   "nbconvert_exporter": "python",
   "pygments_lexer": "ipython3",
   "version": "3.11.5"
  }
 },
 "nbformat": 4,
 "nbformat_minor": 2
}
