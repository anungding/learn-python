{
 "cells": [
  {
   "cell_type": "markdown",
   "metadata": {},
   "source": [
    "### Contoh sintaks sederhana dengan python"
   ]
  },
  {
   "cell_type": "code",
   "execution_count": null,
   "metadata": {},
   "outputs": [],
   "source": [
    "# Kita mulai dari halo dunia dulu\n",
    "print(\"Halo Dunia!\")"
   ]
  },
  {
   "cell_type": "code",
   "execution_count": null,
   "metadata": {},
   "outputs": [],
   "source": [
    "# Contoh operasi matematika sederhana\n",
    "angka1 = 15\n",
    "angka2 = 25\n",
    "hasil = angka1 + angka2\n",
    "print(\"Hasil penjumlahan:\", hasil)"
   ]
  },
  {
   "cell_type": "markdown",
   "metadata": {},
   "source": [
    "### Variabel dalam Python\n",
    "Variabel adalah \"wadah\" untuk menyimpan data. Dengan variabel, kita bisa menyimpan angka, teks, atau data lainnya untuk digunakan nanti.\n",
    "\n",
    "#### Aturan Penamaan Variabel:\n",
    "- Harus dimulai dengan huruf atau underscore (_).\n",
    "- Tidak boleh diawali dengan angka.\n",
    "- Hanya boleh mengandung huruf, angka, dan underscore.\n",
    "- Case-sensitive, artinya Nama dan nama dianggap berbeda."
   ]
  },
  {
   "cell_type": "code",
   "execution_count": 17,
   "metadata": {},
   "outputs": [
    {
     "name": "stdout",
     "output_type": "stream",
     "text": [
      "Nama saya: Tia\n",
      "Umur saya: 28\n",
      "Tinggi saya: 1.75\n",
      "Apakah saya mahasiswa? True\n"
     ]
    }
   ],
   "source": [
    "# Menyimpan data ke dalam variabel\n",
    "nama = \"Ridhar\"           # String\n",
    "umur = 28               # Integer (bilangan bulat)\n",
    "tinggi = 1.75           # Float (bilangan desimal)\n",
    "is_student = True       # Boolean (True/False)\n",
    "\n",
    "# Menampilkan isi variabel\n",
    "print(\"Nama saya:\", nama)\n",
    "print(\"Umur saya:\", umur)\n",
    "print(\"Tinggi saya:\", tinggi)\n",
    "print(\"Apakah saya mahasiswa?\", is_student)\n"
   ]
  },
  {
   "cell_type": "markdown",
   "metadata": {},
   "source": [
    "### Komentar dalam Python\n",
    "Komentar digunakan untuk memberi catatan di kode. Komentar ini tidak akan dijalankan oleh Python. \n",
    "Ada dua jenis komentar:"
   ]
  },
  {
   "cell_type": "markdown",
   "metadata": {},
   "source": [
    "1. Komentar Baris Tunggal"
   ]
  },
  {
   "cell_type": "code",
   "execution_count": 16,
   "metadata": {},
   "outputs": [
    {
     "name": "stdout",
     "output_type": "stream",
     "text": [
      "Semangat terus belajar!!!\n",
      "Hello, World!\n"
     ]
    }
   ],
   "source": [
    "# Ini adalah komentar\n",
    "nama = \"Wahyu\"  # Komentar di sebelah kode\n",
    "print(nama)  # Menampilkan nama"
   ]
  },
  {
   "cell_type": "markdown",
   "metadata": {},
   "source": [
    "2. Komentar Multi Baris"
   ]
  },
  {
   "cell_type": "code",
   "execution_count": null,
   "metadata": {},
   "outputs": [],
   "source": [
    "'''\n",
    "Ini adalah komentar multi-baris.\n",
    "Cocok untuk penjelasan yang panjang.\n",
    "'''\n",
    "nama = \"Zulki\"\n",
    "print(nama)"
   ]
  }
 ],
 "metadata": {
  "kernelspec": {
   "display_name": "base",
   "language": "python",
   "name": "python3"
  },
  "language_info": {
   "codemirror_mode": {
    "name": "ipython",
    "version": 3
   },
   "file_extension": ".py",
   "mimetype": "text/x-python",
   "name": "python",
   "nbconvert_exporter": "python",
   "pygments_lexer": "ipython3",
   "version": "3.11.5"
  }
 },
 "nbformat": 4,
 "nbformat_minor": 2
}
