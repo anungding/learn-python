{
 "cells": [
  {
   "cell_type": "markdown",
   "metadata": {},
   "source": [
    "### Tipe Data dalam Python\n",
    "#### Apa itu tipe data?\n",
    "Tipe data adalah jenis data yang disimpan di dalam variabel. Python punya beberapa tipe data utama.\n",
    "#### Tipe Data Dasar\n",
    "- String (str)\n",
    "-> Teks atau kumpulan karakter.\n",
    "Contoh: \"Halo\", 'Python'\n",
    "\n",
    "- Integer (int)\n",
    "-> Bilangan bulat.\n",
    "Contoh: 10, -5\n",
    "\n",
    "- Float (float)\n",
    "-> Bilangan desimal.\n",
    "Contoh: 3.14, -0.5\n",
    "\n",
    "- Boolean (bool)\n",
    "-> Nilai benar atau salah.\n",
    "Contoh: True, False"
   ]
  },
  {
   "cell_type": "markdown",
   "metadata": {},
   "source": [
    "#### Memeriksa Tipe Data\n",
    "Kita bisa menggunakan fungsi type() untuk memeriksa tipe data sebuah variabel.\n",
    "Contoh:"
   ]
  },
  {
   "cell_type": "code",
   "execution_count": 1,
   "metadata": {},
   "outputs": [
    {
     "name": "stdout",
     "output_type": "stream",
     "text": [
      "<class 'str'>\n",
      "<class 'int'>\n",
      "<class 'float'>\n",
      "<class 'bool'>\n"
     ]
    }
   ],
   "source": [
    "x = \"Halo\"        # String\n",
    "y = 10            # Integer\n",
    "z = 3.14          # Float\n",
    "is_active = True  # Boolean\n",
    "\n",
    "print(type(x))  # Output: <class 'str'>\n",
    "print(type(y))  # Output: <class 'int'>\n",
    "print(type(z))  # Output: <class 'float'>\n",
    "print(type(is_active))  # Output: <class 'bool'>\n"
   ]
  },
  {
   "cell_type": "markdown",
   "metadata": {},
   "source": [
    "#### Konversi Tipe Data\n",
    "Kita bisa mengubah tipe data menggunakan fungsi berikut:\n",
    "\n",
    "- int() → Mengubah ke integer\n",
    "- float() → Mengubah ke float\n",
    "- str() → Mengubah ke string\n",
    "- bool() → Mengubah ke boolean"
   ]
  },
  {
   "cell_type": "code",
   "execution_count": 4,
   "metadata": {},
   "outputs": [
    {
     "name": "stdout",
     "output_type": "stream",
     "text": [
      "10.0\n",
      "10\n",
      "<class 'str'>\n",
      "<class 'float'>\n"
     ]
    }
   ],
   "source": [
    "# Konversi tipe data\n",
    "angka = 10\n",
    "desimal = float(angka)  # Mengubah integer ke float\n",
    "teks = str(angka)       # Mengubah integer ke string\n",
    "print(desimal)  # Output: 10.0\n",
    "print(teks)     # Output: \"10\"\n",
    "\n",
    "print(type(teks)) #Berubah jadi string\n",
    "print(type(desimal)) #Berubah jadi float\n"
   ]
  },
  {
   "cell_type": "markdown",
   "metadata": {},
   "source": [
    "#### Latihan membuat vaiabel dengan tipe data"
   ]
  },
  {
   "cell_type": "code",
   "execution_count": 5,
   "metadata": {},
   "outputs": [
    {
     "name": "stdout",
     "output_type": "stream",
     "text": [
      "<class 'str'>\n",
      "<class 'int'>\n",
      "<class 'float'>\n",
      "<class 'bool'>\n"
     ]
    }
   ],
   "source": [
    "nama = \"Ales Sandro\"\n",
    "umur = 10\n",
    "berat_badan = 58.5\n",
    "mahasiswa = True\n",
    "\n",
    "print(type(nama))\n",
    "print(type(umur))\n",
    "print(type(berat_badan))\n",
    "print(type(mahasiswa))"
   ]
  }
 ],
 "metadata": {
  "kernelspec": {
   "display_name": "base",
   "language": "python",
   "name": "python3"
  },
  "language_info": {
   "codemirror_mode": {
    "name": "ipython",
    "version": 3
   },
   "file_extension": ".py",
   "mimetype": "text/x-python",
   "name": "python",
   "nbconvert_exporter": "python",
   "pygments_lexer": "ipython3",
   "version": "3.11.5"
  }
 },
 "nbformat": 4,
 "nbformat_minor": 2
}
