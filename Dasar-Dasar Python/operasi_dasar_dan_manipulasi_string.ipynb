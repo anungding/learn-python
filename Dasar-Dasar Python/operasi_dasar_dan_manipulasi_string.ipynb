{
 "cells": [
  {
   "cell_type": "markdown",
   "metadata": {},
   "source": [
    "### Operasi Dasar dan Manipulasi String\n",
    "#### Operasi Matematika di Python\n",
    "Python mendukung berbagai operasi matematika dasar seperti penjumlahan, pengurangan, perkalian, pembagian, dan lainnya.\n",
    "\n",
    "#### Operasi Dasar:\n",
    "- Penjumlahan (+)\n",
    "- Pengurangan (-)\n",
    "- Perkalian (*)\n",
    "- Pembagian (/)\n",
    "- Pembagian Bulat (//) - hasilnya bilangan bulat\n",
    "- Sisa Bagi (%) - menghasilkan sisa dari pembagian\n",
    "- Pangkat (**) - untuk eksponen"
   ]
  },
  {
   "cell_type": "code",
   "execution_count": 3,
   "metadata": {},
   "outputs": [
    {
     "name": "stdout",
     "output_type": "stream",
     "text": [
      "Penjumlahan: 20\n",
      "Pengurangan: 14\n",
      "Perkalian: 51\n",
      "Pembagian: 5.666666666666667\n",
      "Pembagian Bulat: 5\n",
      "Sisa Bagi: 2\n",
      "Pangkat: 4913\n"
     ]
    }
   ],
   "source": [
    "a = 10\n",
    "b = 3\n",
    "\n",
    "print(\"Penjumlahan:\", a + b)   # 13\n",
    "print(\"Pengurangan:\", a - b)   # 7\n",
    "print(\"Perkalian:\", a * b)     # 30\n",
    "print(\"Pembagian:\", a / b)     # 3.3333...\n",
    "print(\"Pembagian Bulat:\", a // b)  # 3\n",
    "print(\"Sisa Bagi:\", a % b)     # 1\n",
    "print(\"Pangkat:\", a ** b)      # 1000\n"
   ]
  },
  {
   "cell_type": "markdown",
   "metadata": {},
   "source": [
    "#### Manipulasi String di Python\n",
    "String adalah tipe data yang digunakan untuk menyimpan teks. Ada banyak cara untuk memanipulasi string di Python."
   ]
  },
  {
   "cell_type": "markdown",
   "metadata": {},
   "source": [
    "#### Penggabungan String\n",
    "Menggunakan operator "
   ]
  },
  {
   "cell_type": "code",
   "execution_count": 4,
   "metadata": {},
   "outputs": [
    {
     "name": "stdout",
     "output_type": "stream",
     "text": [
      "Halo Andi\n"
     ]
    }
   ],
   "source": [
    "greeting = \"Halo\"\n",
    "nama = \"Andi\"\n",
    "message = greeting + \" \" + nama\n",
    "print(message)  # Output: Halo Andi\n"
   ]
  },
  {
   "cell_type": "markdown",
   "metadata": {},
   "source": [
    "#### Pengulangan String\n",
    "Menggunakan operator * untuk mengulang string."
   ]
  },
  {
   "cell_type": "code",
   "execution_count": 5,
   "metadata": {},
   "outputs": [
    {
     "name": "stdout",
     "output_type": "stream",
     "text": [
      "Python Python Python \n"
     ]
    }
   ],
   "source": [
    "word = \"Python \"\n",
    "repeated = word * 3\n",
    "print(repeated)  # Output: Python Python Python\n"
   ]
  },
  {
   "cell_type": "markdown",
   "metadata": {},
   "source": [
    "#### Mengakses Karakter dalam String\n",
    "String di Python bisa diakses menggunakan indeks, dimulai dari 0."
   ]
  },
  {
   "cell_type": "code",
   "execution_count": 6,
   "metadata": {},
   "outputs": [
    {
     "name": "stdout",
     "output_type": "stream",
     "text": [
      "P\n",
      "y\n"
     ]
    }
   ],
   "source": [
    "text = \"Python\"\n",
    "print(text[0])  # Output: P\n",
    "print(text[1])  # Output: y\n"
   ]
  },
  {
   "cell_type": "markdown",
   "metadata": {},
   "source": [
    "#### Potongan String (Slicing)\n",
    "Menggunakan start:stop untuk mendapatkan bagian tertentu dari string."
   ]
  },
  {
   "cell_type": "code",
   "execution_count": 7,
   "metadata": {},
   "outputs": [
    {
     "name": "stdout",
     "output_type": "stream",
     "text": [
      "Pyt\n",
      "tho\n"
     ]
    }
   ],
   "source": [
    "text = \"Python\"\n",
    "print(text[0:3])  # Output: Pyt\n",
    "print(text[2:5])  # Output: tho\n"
   ]
  },
  {
   "cell_type": "markdown",
   "metadata": {},
   "source": [
    "#### Fungsi String Bawaan\n",
    "- len(string) – Menghitung panjang string\n",
    "- upper() – Mengubah string ke huruf besar\n",
    "- lower() – Mengubah string ke huruf kecil\n",
    "- replace(old, new) – Mengganti teks lama dengan yang baru\n",
    "- split() – Memecah string berdasarkan pemisah"
   ]
  },
  {
   "cell_type": "code",
   "execution_count": 8,
   "metadata": {},
   "outputs": [
    {
     "name": "stdout",
     "output_type": "stream",
     "text": [
      "18\n",
      "PYTHON PROGRAMMING\n",
      "python programming\n",
      "Python Development\n",
      "['Python', 'Programming']\n"
     ]
    }
   ],
   "source": [
    "text = \"Python Programming\"\n",
    "print(len(text))  # Output: 18\n",
    "print(text.upper())  # Output: PYTHON PROGRAMMING\n",
    "print(text.lower())  # Output: python programming\n",
    "print(text.replace(\"Programming\", \"Development\"))  # Output: Python Development\n",
    "words = text.split()  # Memecah string menjadi list berdasarkan spasi\n",
    "print(words)  # Output: ['Python', 'Programming']\n"
   ]
  }
 ],
 "metadata": {
  "kernelspec": {
   "display_name": "base",
   "language": "python",
   "name": "python3"
  },
  "language_info": {
   "codemirror_mode": {
    "name": "ipython",
    "version": 3
   },
   "file_extension": ".py",
   "mimetype": "text/x-python",
   "name": "python",
   "nbconvert_exporter": "python",
   "pygments_lexer": "ipython3",
   "version": "3.11.5"
  }
 },
 "nbformat": 4,
 "nbformat_minor": 2
}
