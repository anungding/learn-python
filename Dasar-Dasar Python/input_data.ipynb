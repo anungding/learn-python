{
 "cells": [
  {
   "cell_type": "markdown",
   "metadata": {},
   "source": [
    "#### Input Data pada Python\n",
    "#### Apa itu Input dari Pengguna?\n",
    "- Python menyediakan fungsi input() untuk menerima data dari pengguna.\n",
    "- Data yang diambil melalui input() selalu berupa string.\n",
    "- Jika membutuhkan tipe data lain (seperti integer atau float), perlu dikonversi."
   ]
  },
  {
   "cell_type": "markdown",
   "metadata": {},
   "source": [
    "#### Cara Dasar Menggunakan input()\n",
    "Contoh sederhana:"
   ]
  },
  {
   "cell_type": "code",
   "execution_count": null,
   "metadata": {},
   "outputs": [
    {
     "name": "stdout",
     "output_type": "stream",
     "text": [
      "Halo, Handi!\n"
     ]
    }
   ],
   "source": [
    "nama = input(\"Siapa namamu? \")  # Meminta pengguna memasukkan nama\n",
    "print(\"Halo, \" + nama + \"!\")   # Menampilkan nama yang dimasukkan"
   ]
  },
  {
   "cell_type": "markdown",
   "metadata": {},
   "source": [
    "#### Konversi Input ke Tipe Data Lain\n",
    "Karena hasil dari input() adalah string, kita perlu mengonversinya jika ingin bekerja dengan angka.\n",
    "Gunakan int() untuk integer atau float() untuk desimal.\n",
    "\n",
    "Contoh:"
   ]
  },
  {
   "cell_type": "code",
   "execution_count": 3,
   "metadata": {},
   "outputs": [
    {
     "name": "stdout",
     "output_type": "stream",
     "text": [
      "Umurmu adalah 9 tahun.\n",
      "Tinggi badanmu adalah 170.0 meter.\n"
     ]
    }
   ],
   "source": [
    "umur = int(input(\"Berapa umurmu? \"))  # Mengubah input ke integer\n",
    "tinggi = float(input(\"Berapa tinggi badanmu? \"))  # Mengubah input ke float\n",
    "\n",
    "print(\"Umurmu adalah\", umur, \"tahun.\")\n",
    "print(\"Tinggi badanmu adalah\", tinggi, \"meter.\")\n"
   ]
  },
  {
   "cell_type": "markdown",
   "metadata": {},
   "source": [
    "#### Menggunakan Input untuk Operasi Matematika\n",
    "Data input dapat langsung digunakan untuk perhitungan.\n",
    "\n",
    "Contoh:"
   ]
  },
  {
   "cell_type": "code",
   "execution_count": 4,
   "metadata": {},
   "outputs": [
    {
     "name": "stdout",
     "output_type": "stream",
     "text": [
      "Hasil penjumlahan: 24\n"
     ]
    }
   ],
   "source": [
    "angka1 = int(input(\"Masukkan angka pertama: \"))\n",
    "angka2 = int(input(\"Masukkan angka kedua: \"))\n",
    "\n",
    "hasil = angka1 + angka2\n",
    "print(\"Hasil penjumlahan:\", hasil)"
   ]
  },
  {
   "cell_type": "markdown",
   "metadata": {},
   "source": [
    "#### Menangani Input yang Tidak Valid\n",
    "Jika pengguna memasukkan data yang tidak sesuai tipe, akan terjadi error. Kita bisa menggunakan try-except untuk menangani error tersebut.\n",
    "\n",
    "Contoh:"
   ]
  },
  {
   "cell_type": "code",
   "execution_count": 5,
   "metadata": {},
   "outputs": [
    {
     "name": "stdout",
     "output_type": "stream",
     "text": [
      "Harap masukkan angka yang valid.\n"
     ]
    }
   ],
   "source": [
    "try:\n",
    "    angka = int(input(\"Masukkan sebuah angka: \"))\n",
    "    print(\"Angka yang kamu masukkan adalah:\", angka)\n",
    "except ValueError:\n",
    "    print(\"Harap masukkan angka yang valid.\")\n"
   ]
  }
 ],
 "metadata": {
  "kernelspec": {
   "display_name": "base",
   "language": "python",
   "name": "python3"
  },
  "language_info": {
   "codemirror_mode": {
    "name": "ipython",
    "version": 3
   },
   "file_extension": ".py",
   "mimetype": "text/x-python",
   "name": "python",
   "nbconvert_exporter": "python",
   "pygments_lexer": "ipython3",
   "version": "3.11.5"
  }
 },
 "nbformat": 4,
 "nbformat_minor": 2
}
