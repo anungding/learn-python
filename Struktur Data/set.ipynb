{
 "cells": [
  {
   "cell_type": "markdown",
   "metadata": {},
   "source": [
    "### SET"
   ]
  },
  {
   "cell_type": "markdown",
   "metadata": {},
   "source": [
    "Set dalam Python adalah tipe data bawaan yang digunakan untuk menyimpan koleksi elemen yang unik dan tidak berurutan. Set sering digunakan ketika kita membutuhkan sekumpulan elemen tanpa duplikasi dan untuk operasi himpunan seperti gabungan, irisan, atau perbedaan.\n",
    "\n",
    "Karakteristik Set:\n",
    "- Unordered: Elemen tidak memiliki urutan (tidak bisa diakses dengan indeks seperti list).\n",
    "- Unchangeable (Immutable) Elements: Elemen di dalam set harus bersifat immutable (tidak bisa diubah), seperti string, angka, atau tuple.\n",
    "- Unique: Tidak mengizinkan duplikasi elemen.\n",
    "\n",
    "Set sangat berguna dalam banyak kasus, seperti menghapus duplikasi dari daftar atau melakukan operasi himpunan pada data.\n",
    "\n",
    "\n",
    "Cara Membuat Set:\n",
    "Set dibuat menggunakan kurung kurawal {} atau fungsi set().\n",
    "\n",
    "Contoh:"
   ]
  },
  {
   "cell_type": "code",
   "execution_count": 13,
   "metadata": {},
   "outputs": [
    {
     "name": "stdout",
     "output_type": "stream",
     "text": [
      "{1, 2, 3, 4}\n",
      "{1, 2, 3}\n",
      "set()\n"
     ]
    }
   ],
   "source": [
    "# Membuat set dengan kurung kurawal\n",
    "my_set = {1, 2, 3, 4}\n",
    "print(my_set)  # Output: {1, 2, 3, 4}\n",
    "\n",
    "# Membuat set dengan fungsi set()\n",
    "my_set = set([1, 2, 2, 3])\n",
    "print(my_set)  # Output: {1, 2, 3}\n",
    "\n",
    "# Set kosong\n",
    "empty_set = set()  # Harus menggunakan set(), bukan {} (itu untuk dictionary)\n",
    "print(empty_set)\n"
   ]
  },
  {
   "cell_type": "markdown",
   "metadata": {},
   "source": [
    "#### Menambahkan Elmen"
   ]
  },
  {
   "cell_type": "code",
   "execution_count": 14,
   "metadata": {},
   "outputs": [
    {
     "name": "stdout",
     "output_type": "stream",
     "text": [
      "{1, 2, 3, 5}\n",
      "{1, 2, 3, 5, 6, 7}\n"
     ]
    }
   ],
   "source": [
    "my_set.add(5)\n",
    "print(my_set)\n",
    "\n",
    "my_set.update([6, 7])\n",
    "print(my_set)"
   ]
  },
  {
   "cell_type": "markdown",
   "metadata": {},
   "source": [
    "#### Menghapus Elmen\n",
    "- remove() menghapus elemen tertentu (error jika elemen tidak ditemukan).\n",
    "- discard() menghapus elemen tertentu (tidak error jika elemen tidak ditemukan).\n",
    "- pop() menghapus elemen secara acak.\n",
    "- clear() menghapus semua elemen."
   ]
  },
  {
   "cell_type": "code",
   "execution_count": 15,
   "metadata": {},
   "outputs": [
    {
     "name": "stdout",
     "output_type": "stream",
     "text": [
      "{1, 3, 5, 6, 7}\n"
     ]
    }
   ],
   "source": [
    "my_set.remove(2)  # Menghapus 2\n",
    "my_set.discard(8)  # Tidak error meski 4 tidak ada\n",
    "print(my_set)\n"
   ]
  }
 ],
 "metadata": {
  "kernelspec": {
   "display_name": "base",
   "language": "python",
   "name": "python3"
  },
  "language_info": {
   "codemirror_mode": {
    "name": "ipython",
    "version": 3
   },
   "file_extension": ".py",
   "mimetype": "text/x-python",
   "name": "python",
   "nbconvert_exporter": "python",
   "pygments_lexer": "ipython3",
   "version": "3.11.5"
  }
 },
 "nbformat": 4,
 "nbformat_minor": 2
}
