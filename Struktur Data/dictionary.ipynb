{
 "cells": [
  {
   "cell_type": "markdown",
   "metadata": {},
   "source": [
    "### Dictionaries\n",
    "Dalam Python, dictionary adalah salah satu tipe data bawaan yang digunakan untuk menyimpan pasangan key-value. Dictionary bersifat:\n",
    "\n",
    "- Unordered (tidak memiliki urutan tertentu hingga Python 3.6, tetapi sejak Python 3.7 ke atas, mempertahankan urutan penambahan).\n",
    "- Mutable (dapat diubah setelah dibuat).\n",
    "- Indexed by keys (akses elemen berdasarkan key, bukan indeks numerik seperti pada list).\n",
    "\n",
    "Struktur Dictionary\n",
    "Dictionary didefinisikan menggunakan kurung kurawal {} dengan pasangan key-value dipisahkan oleh tanda titik dua : , setiap pasangan dipisahkan oleh koma , .\n",
    "\n",
    "Karakteristik Key dalam Dictionary\n",
    "- Key harus bersifat immutable (tidak bisa diubah), seperti string, angka, atau tuple.\n",
    "- Key harus unik, jika ada duplikasi, key terakhir akan menggantikan yang sebelumnya.\n",
    "\n",
    "Dictionary sangat fleksibel dan sering digunakan dalam berbagai aplikasi, seperti penyimpanan konfigurasi, pemetaan data, atau pemrosesan file JSON."
   ]
  },
  {
   "cell_type": "markdown",
   "metadata": {},
   "source": [
    "#### Membuat Dictionary"
   ]
  },
  {
   "cell_type": "code",
   "execution_count": 29,
   "metadata": {},
   "outputs": [
    {
     "name": "stdout",
     "output_type": "stream",
     "text": [
      "{'name': 'Frida', 'age': 24, 'address': 'Cilacap', 'hobby': ['Cooking', 'Reading']}\n"
     ]
    }
   ],
   "source": [
    "student = {\n",
    "  \"name\": \"Frida\",\n",
    "  \"age\": 24,\n",
    "  \"address\": \"Cilacap\",\n",
    "  \"hobby\" : [\"Cooking\", \"Reading\"]\n",
    "}\n",
    "print(student)"
   ]
  },
  {
   "cell_type": "markdown",
   "metadata": {},
   "source": [
    "#### Mengakses Nilai Item dari Dictionary"
   ]
  },
  {
   "cell_type": "code",
   "execution_count": 37,
   "metadata": {},
   "outputs": [
    {
     "name": "stdout",
     "output_type": "stream",
     "text": [
      "Isma\n",
      "24\n"
     ]
    }
   ],
   "source": [
    "print(student['name'])\n",
    "print(student['age'])"
   ]
  },
  {
   "cell_type": "markdown",
   "metadata": {},
   "source": [
    "#### Mengakses Nilai Menggunakan Perulangan"
   ]
  },
  {
   "cell_type": "code",
   "execution_count": 38,
   "metadata": {},
   "outputs": [
    {
     "name": "stdout",
     "output_type": "stream",
     "text": [
      "Isma\n",
      "24\n",
      "Cilacap\n",
      "['Cooking', 'Reading']\n",
      "True\n"
     ]
    }
   ],
   "source": [
    "for key in student:\n",
    "    print(student[key])"
   ]
  },
  {
   "cell_type": "markdown",
   "metadata": {},
   "source": [
    "#### Menambahkan Item ke Dictionary"
   ]
  },
  {
   "cell_type": "code",
   "execution_count": 31,
   "metadata": {},
   "outputs": [
    {
     "name": "stdout",
     "output_type": "stream",
     "text": [
      "{'name': 'Frida', 'age': 24, 'address': 'Cilacap', 'hobby': ['Cooking', 'Reading'], 'graduate': False}\n"
     ]
    }
   ],
   "source": [
    "student.update({\"graduate\": False})\n",
    "print(student)"
   ]
  },
  {
   "cell_type": "markdown",
   "metadata": {},
   "source": [
    "#### Mengubah Nilai Item Dictionary"
   ]
  },
  {
   "cell_type": "code",
   "execution_count": 36,
   "metadata": {},
   "outputs": [
    {
     "name": "stdout",
     "output_type": "stream",
     "text": [
      "Isma\n",
      "True\n"
     ]
    }
   ],
   "source": [
    "student['name'] = 'Isma'\n",
    "student['graduate'] = True\n",
    "\n",
    "print(student['name'])\n",
    "print(student['graduate'])"
   ]
  },
  {
   "cell_type": "markdown",
   "metadata": {},
   "source": [
    "#### Mengambil Panjang Dictionary"
   ]
  },
  {
   "cell_type": "code",
   "execution_count": 33,
   "metadata": {},
   "outputs": [
    {
     "name": "stdout",
     "output_type": "stream",
     "text": [
      "5\n"
     ]
    }
   ],
   "source": [
    "print(len(student))"
   ]
  },
  {
   "cell_type": "markdown",
   "metadata": {},
   "source": [
    "#### Menggabungkan Dictionaries"
   ]
  },
  {
   "cell_type": "code",
   "execution_count": 39,
   "metadata": {},
   "outputs": [
    {
     "name": "stdout",
     "output_type": "stream",
     "text": [
      "{'name': 'Risma', 'age': 23, 'address': 'Cilacap', 'hobby': ['Cooking', 'Reading'], 'graduate': True}\n"
     ]
    }
   ],
   "source": [
    "dict1 = {\n",
    "    \"name\": \"Risma\",\n",
    "    \"age\": 23,\n",
    "    \"address\": \"Cilacap\",\n",
    "}\n",
    "\n",
    "dict2 = {\n",
    "    \"hobby\" : [\"Cooking\", \"Reading\"],\n",
    "    \"graduate\" : True\n",
    "}\n",
    "\n",
    "merge_dict = dict1 | dict2\n",
    "print(merge_dict)"
   ]
  }
 ],
 "metadata": {
  "kernelspec": {
   "display_name": "base",
   "language": "python",
   "name": "python3"
  },
  "language_info": {
   "codemirror_mode": {
    "name": "ipython",
    "version": 3
   },
   "file_extension": ".py",
   "mimetype": "text/x-python",
   "name": "python",
   "nbconvert_exporter": "python",
   "pygments_lexer": "ipython3",
   "version": "3.11.5"
  }
 },
 "nbformat": 4,
 "nbformat_minor": 2
}
