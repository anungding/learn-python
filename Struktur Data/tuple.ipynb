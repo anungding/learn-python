{
 "cells": [
  {
   "cell_type": "markdown",
   "metadata": {},
   "source": [
    "### TUPLE\n",
    "Tuple dalam Python adalah struktur data yang digunakan untuk menyimpan sekumpulan data. Tuple bersifat immutable, artinya isi tuple tidak bisa kita ubah dan hapus. Namun, dapat kita isi dengan berbagai macam nilai dan objek."
   ]
  },
  {
   "cell_type": "markdown",
   "metadata": {},
   "source": [
    "##### Membuat Tuple"
   ]
  },
  {
   "cell_type": "code",
   "execution_count": null,
   "metadata": {},
   "outputs": [],
   "source": [
    "t = (1234, 4321, 'Hello')\n",
    "t = 1234, 432, 'World!'"
   ]
  },
  {
   "cell_type": "markdown",
   "metadata": {},
   "source": [
    "##### Membuat Tuple Kosong dan Singleton"
   ]
  },
  {
   "cell_type": "code",
   "execution_count": null,
   "metadata": {},
   "outputs": [],
   "source": [
    "# membuat tuple\n",
    "satu = ('Isinya',)\n",
    "siji = \"isinya siji\","
   ]
  },
  {
   "cell_type": "markdown",
   "metadata": {},
   "source": [
    "##### Mengakses Nilai Tuple"
   ]
  },
  {
   "cell_type": "code",
   "execution_count": 1,
   "metadata": {},
   "outputs": [
    {
     "name": "stdout",
     "output_type": "stream",
     "text": [
      "Zulki\n"
     ]
    }
   ],
   "source": [
    "# membuat tuple\n",
    "nama = ('Ales', 'Zulki', 'Riski')\n",
    "\n",
    "# mengakses nilai tuple\n",
    "print(nama[1])"
   ]
  },
  {
   "cell_type": "markdown",
   "metadata": {},
   "source": [
    "##### Beberapa fungsi dan metode yang berguna untuk tuple:\n",
    "\n",
    "- len(): Mengembalikan panjang tuple.\n",
    "- count(): Menghitung jumlah kemunculan elemen tertentu dalam tuple.\n",
    "- index(): Mengembalikan indeks dari elemen pertama yang ditemukan."
   ]
  },
  {
   "cell_type": "code",
   "execution_count": 1,
   "metadata": {},
   "outputs": [
    {
     "name": "stdout",
     "output_type": "stream",
     "text": [
      "5\n",
      "2\n",
      "2\n"
     ]
    }
   ],
   "source": [
    "sample_tuple = (1, 2, 3, 2, 4)\n",
    "\n",
    "# Panjang tuple\n",
    "print(len(sample_tuple))  # Output: 5\n",
    "\n",
    "# Menghitung jumlah kemunculan elemen\n",
    "print(sample_tuple.count(2))  # Output: 2\n",
    "\n",
    "# Mencari indeks elemen\n",
    "print(sample_tuple.index(3))  # Output: 2\n"
   ]
  },
  {
   "cell_type": "markdown",
   "metadata": {},
   "source": [
    "#### Kesimpulan\n",
    "Tuple adalah struktur data yang berguna ketika kita membutuhkan kumpulan elemen yang tidak berubah. Mereka efisien dan dapat digunakan dalam berbagai situasi di mana list tidak diperlukan untuk dimodifikasi."
   ]
  }
 ],
 "metadata": {
  "kernelspec": {
   "display_name": "base",
   "language": "python",
   "name": "python3"
  },
  "language_info": {
   "codemirror_mode": {
    "name": "ipython",
    "version": 3
   },
   "file_extension": ".py",
   "mimetype": "text/x-python",
   "name": "python",
   "nbconvert_exporter": "python",
   "pygments_lexer": "ipython3",
   "version": "3.11.5"
  }
 },
 "nbformat": 4,
 "nbformat_minor": 2
}
