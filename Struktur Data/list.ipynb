{
 "cells": [
  {
   "cell_type": "markdown",
   "metadata": {},
   "source": [
    "### List\n",
    "List di Python adalah salah satu struktur data yang digunakan untuk menyimpan kumpulan nilai dalam satu variabel. List bersifat mutable (bisa diubah), terurut (ordered), dan dapat menyimpan berbagai tipe data dalam satu list.\n",
    "\n",
    "Contoh:"
   ]
  },
  {
   "cell_type": "code",
   "execution_count": 3,
   "metadata": {},
   "outputs": [
    {
     "name": "stdout",
     "output_type": "stream",
     "text": [
      "['Zevany', 'Informatika', 'Kebumen', 23]\n"
     ]
    }
   ],
   "source": [
    "my_lists = [\"Zevany\", \"Informatika\", \"Kebumen\", 23]\n",
    "print(my_lists)"
   ]
  },
  {
   "cell_type": "markdown",
   "metadata": {},
   "source": [
    "##### Mengakses Elemen List"
   ]
  },
  {
   "cell_type": "code",
   "execution_count": 4,
   "metadata": {},
   "outputs": [
    {
     "name": "stdout",
     "output_type": "stream",
     "text": [
      "Zevany\n",
      "Informatika\n",
      "Kebumen\n",
      "23\n",
      "23\n",
      "['Informatika', 'Kebumen']\n"
     ]
    }
   ],
   "source": [
    "print(my_lists[0])\n",
    "print(my_lists[1])\n",
    "print(my_lists[2])\n",
    "print(my_lists[3])\n",
    "\n",
    "print(my_lists[-1])\n",
    "\n",
    "print(my_lists[1:3])"
   ]
  },
  {
   "cell_type": "markdown",
   "metadata": {},
   "source": [
    "#### Menambah Elemen ke List\n",
    "- append() → Menambahkan elemen ke akhir list\n",
    "- insert() → Menyisipkan elemen ke posisi tertentu\n",
    "- extend() → Menggabungkan dua list"
   ]
  },
  {
   "cell_type": "code",
   "execution_count": 5,
   "metadata": {},
   "outputs": [
    {
     "name": "stdout",
     "output_type": "stream",
     "text": [
      "['Zevany', 'Informatika', 'Kebumen', 23, 'FT']\n"
     ]
    }
   ],
   "source": [
    "my_lists.append(\"FT\")\n",
    "print(my_lists)"
   ]
  },
  {
   "cell_type": "markdown",
   "metadata": {},
   "source": [
    "##### Mengubah Elemen List"
   ]
  },
  {
   "cell_type": "code",
   "execution_count": 6,
   "metadata": {},
   "outputs": [
    {
     "name": "stdout",
     "output_type": "stream",
     "text": [
      "['Zevany', 'Informatika', 'Jakarta', 23, 'FT']\n"
     ]
    }
   ],
   "source": [
    "my_lists[2] = \"Jakarta\"\n",
    "print(my_lists)"
   ]
  },
  {
   "cell_type": "markdown",
   "metadata": {},
   "source": [
    "#### Menghapus Elemen List\n",
    "- remove() → Menghapus berdasarkan nilai\n",
    "- pop() → Menghapus berdasarkan indeks (default terakhir)\n",
    "- del → Menghapus elemen atau seluruh list"
   ]
  },
  {
   "cell_type": "code",
   "execution_count": 7,
   "metadata": {},
   "outputs": [
    {
     "name": "stdout",
     "output_type": "stream",
     "text": [
      "['Zevany', 'Informatika', 'Jakarta', 'FT']\n"
     ]
    }
   ],
   "source": [
    "my_lists.remove(23)\n",
    "print(my_lists)"
   ]
  },
  {
   "cell_type": "markdown",
   "metadata": {},
   "source": [
    "##### Looping di List"
   ]
  },
  {
   "cell_type": "code",
   "execution_count": 10,
   "metadata": {},
   "outputs": [
    {
     "name": "stdout",
     "output_type": "stream",
     "text": [
      "0 Zevany\n",
      "1 Informatika\n",
      "2 Jakarta\n",
      "3 FT\n"
     ]
    }
   ],
   "source": [
    "for index, e in enumerate(my_lists):\n",
    "    print(index, e)"
   ]
  }
 ],
 "metadata": {
  "kernelspec": {
   "display_name": "base",
   "language": "python",
   "name": "python3"
  },
  "language_info": {
   "codemirror_mode": {
    "name": "ipython",
    "version": 3
   },
   "file_extension": ".py",
   "mimetype": "text/x-python",
   "name": "python",
   "nbconvert_exporter": "python",
   "pygments_lexer": "ipython3",
   "version": "3.11.5"
  }
 },
 "nbformat": 4,
 "nbformat_minor": 2
}
