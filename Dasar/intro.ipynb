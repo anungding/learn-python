{
 "cells": [
  {
   "cell_type": "markdown",
   "metadata": {},
   "source": [
    "Ini adalah catatan saya dalam belajar dasar-dasar bahasa pemogrman python.\n",
    "\n",
    "### Kenalan dulu dengan Python\n",
    "Python adalah bahasa pemrograman tingkat tinggi yang sangat populer karena sintaksnya yang sederhana dan mudah dipahami. Cocok untuk pemula maupun profesional, python sering digunakan di berbagai bidang seperti:\n",
    "\n",
    "1. Apa itu Python?\n",
    "- Dibuat oleh: Guido van Rossum pada tahun 1991.\n",
    "- Sifat: General-purpose (serba guna), open-source, dan interpretatif (kode dijalankan baris per baris).\n",
    "- Filosofi utama: Kemudahan membaca kode. Misalnya, \"Pythonic\" artinya menulis kode yang simpel dan elegan.\n",
    "2. Kelebihan Python\n",
    "- Mudah Dipelajari: Sintaks yang sederhana menyerupai bahasa Inggris.\n",
    "- Serbaguna: Bisa digunakan untuk web development, analisis data, machine learning, automasi, dan lainnya.\n",
    "- Komunitas Besar: Banyak pustaka atau framework siap pakai seperti Flask, Django, Pandas, TensorFlow, dll.\n",
    "- Portabilitas: Dapat dijalankan di berbagai sistem operasi (Windows, Mac, Linux).\n",
    "3. Penggunaan Python dalam Dunia Nyata\n",
    "- Web Development: Menggunakan framework seperti Flask dan Django.\n",
    "- Data Science: Analisis data, visualisasi, machine learning dengan Pandas, Matplotlib, dan Scikit-learn.\n",
    "- Automasi: Membuat skrip otomatisasi tugas-tugas manual.\n",
    "- Game Development: Menggunakan pustaka seperti Pygame.\n",
    "- IoT dan Robotika: Mengendalikan perangkat keras dengan Python.\n"
   ]
  }
 ],
 "metadata": {
  "language_info": {
   "name": "python"
  }
 },
 "nbformat": 4,
 "nbformat_minor": 2
}
