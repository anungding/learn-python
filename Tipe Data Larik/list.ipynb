{
 "cells": [
  {
   "cell_type": "markdown",
   "metadata": {},
   "source": [
    "### List\n",
    "\n",
    "Contoh:"
   ]
  },
  {
   "cell_type": "code",
   "execution_count": 12,
   "metadata": {},
   "outputs": [
    {
     "name": "stdout",
     "output_type": "stream",
     "text": [
      "['Zevany', 'Informatika', 'Kebumen', 23]\n"
     ]
    }
   ],
   "source": [
    "my_lists = [\"Zevany\", \"Informatika\", \"Kebumen\", 23]\n",
    "print(my_lists)"
   ]
  },
  {
   "cell_type": "markdown",
   "metadata": {},
   "source": [
    "#### Mengakses isi list"
   ]
  },
  {
   "cell_type": "code",
   "execution_count": 13,
   "metadata": {},
   "outputs": [
    {
     "name": "stdout",
     "output_type": "stream",
     "text": [
      "Zevany\n",
      "Informatika\n",
      "Kebumen\n",
      "23\n",
      "23\n",
      "['Informatika', 'Kebumen']\n"
     ]
    }
   ],
   "source": [
    "print(my_lists[0])\n",
    "print(my_lists[1])\n",
    "print(my_lists[2])\n",
    "print(my_lists[3])\n",
    "\n",
    "print(my_lists[-1])\n",
    "\n",
    "print(my_lists[1:3])"
   ]
  },
  {
   "cell_type": "markdown",
   "metadata": {},
   "source": [
    "#### Menambah isi list"
   ]
  },
  {
   "cell_type": "code",
   "execution_count": 14,
   "metadata": {},
   "outputs": [
    {
     "name": "stdout",
     "output_type": "stream",
     "text": [
      "['Zevany', 'Informatika', 'Kebumen', 23, 'FT']\n"
     ]
    }
   ],
   "source": [
    "my_lists.append(\"FT\")\n",
    "print(my_lists)"
   ]
  },
  {
   "cell_type": "markdown",
   "metadata": {},
   "source": [
    "#### Merubah isi list"
   ]
  },
  {
   "cell_type": "code",
   "execution_count": 15,
   "metadata": {},
   "outputs": [
    {
     "name": "stdout",
     "output_type": "stream",
     "text": [
      "['Zevany', 'Informatika', 'Jakarta', 23, 'FT']\n"
     ]
    }
   ],
   "source": [
    "my_lists[2] = \"Jakarta\"\n",
    "print(my_lists)"
   ]
  },
  {
   "cell_type": "markdown",
   "metadata": {},
   "source": [
    "#### Menghapus isi list"
   ]
  },
  {
   "cell_type": "code",
   "execution_count": 16,
   "metadata": {},
   "outputs": [
    {
     "name": "stdout",
     "output_type": "stream",
     "text": [
      "['Zevany', 'Informatika', 'Jakarta', 'FT']\n"
     ]
    }
   ],
   "source": [
    "my_lists.remove(23)\n",
    "print(my_lists)"
   ]
  }
 ],
 "metadata": {
  "kernelspec": {
   "display_name": "base",
   "language": "python",
   "name": "python3"
  },
  "language_info": {
   "codemirror_mode": {
    "name": "ipython",
    "version": 3
   },
   "file_extension": ".py",
   "mimetype": "text/x-python",
   "name": "python",
   "nbconvert_exporter": "python",
   "pygments_lexer": "ipython3",
   "version": "3.11.5"
  }
 },
 "nbformat": 4,
 "nbformat_minor": 2
}
