{
 "cells": [
  {
   "cell_type": "markdown",
   "metadata": {},
   "source": [
    "### Fungsi"
   ]
  },
  {
   "cell_type": "markdown",
   "metadata": {},
   "source": [
    "#### Membuat Fungsi"
   ]
  },
  {
   "cell_type": "code",
   "execution_count": 5,
   "metadata": {},
   "outputs": [
    {
     "name": "stdout",
     "output_type": "stream",
     "text": [
      "Hello from a function\n"
     ]
    }
   ],
   "source": [
    "def my_function():\n",
    "  print(\"Hello from a function\")\n"
   ]
  },
  {
   "cell_type": "markdown",
   "metadata": {},
   "source": [
    "#### Memanggil Fungsi"
   ]
  },
  {
   "cell_type": "code",
   "execution_count": 6,
   "metadata": {},
   "outputs": [
    {
     "name": "stdout",
     "output_type": "stream",
     "text": [
      "Hello from a function\n"
     ]
    }
   ],
   "source": [
    "my_function()"
   ]
  },
  {
   "cell_type": "markdown",
   "metadata": {},
   "source": [
    "#### Fungsi dengan Parameter"
   ]
  },
  {
   "cell_type": "code",
   "execution_count": 11,
   "metadata": {},
   "outputs": [
    {
     "name": "stdout",
     "output_type": "stream",
     "text": [
      "HASIL:  9\n"
     ]
    }
   ],
   "source": [
    "def add(a, b):\n",
    "    c = a + b\n",
    "    print(\"HASIL: \", c)\n",
    "\n",
    "add(5, 4)"
   ]
  },
  {
   "cell_type": "markdown",
   "metadata": {},
   "source": [
    "##### Fungsi yang Mengembalikan Nilai"
   ]
  },
  {
   "cell_type": "code",
   "execution_count": 15,
   "metadata": {},
   "outputs": [
    {
     "name": "stdout",
     "output_type": "stream",
     "text": [
      "Luas persegi: 36\n"
     ]
    }
   ],
   "source": [
    "def luas_persegi(sisi):\n",
    "    luas = sisi * sisi\n",
    "    return luas\n",
    "\n",
    "print(\"Luas persegi: %d\" % luas_persegi(6))"
   ]
  },
  {
   "cell_type": "markdown",
   "metadata": {},
   "source": [
    "##### Membuat Program Sederhana dengan Fungsi"
   ]
  },
  {
   "cell_type": "code",
   "execution_count": 33,
   "metadata": {},
   "outputs": [
    {
     "name": "stdout",
     "output_type": "stream",
     "text": [
      "[0] Riza\n",
      "[1] Cindy\n",
      "[2] Ikha\n",
      "[0] Rahma\n",
      "[1] Ikha\n"
     ]
    }
   ],
   "source": [
    "# List untuk menyimpan data mahasiswa\n",
    "students = []\n",
    "\n",
    "# Fungsi untuk menampilkan daftar mahasiswa\n",
    "def show_students():\n",
    "    if len(students) > 0:\n",
    "        for indeks, student in enumerate(students):  # Menggunakan enumerate agar lebih Pythonic\n",
    "            print(\"[%d] %s\" % (indeks, student))\n",
    "    else:\n",
    "        print(\"Data Kosong\")\n",
    "\n",
    "# Fungsi untuk menambahkan mahasiswa baru\n",
    "def add_student(name):\n",
    "    students.append(name)\n",
    "\n",
    "# Fungsi untuk mengedit data mahasiswa berdasarkan indeks\n",
    "def edit_student(index, name):\n",
    "    if 0 <= index < len(students):  # Validasi indeks agar tidak terjadi error\n",
    "        students[index] = name\n",
    "    else:\n",
    "        print(\"Indeks tidak valid!\")\n",
    "\n",
    "# Fungsi untuk menghapus mahasiswa berdasarkan nama\n",
    "def del_student(name):\n",
    "    if name in students:  # Validasi agar tidak error jika nama tidak ditemukan\n",
    "        students.remove(name)\n",
    "    else:\n",
    "        print(\"Nama tidak ditemukan!\")\n",
    "\n",
    "# Menambahkan beberapa mahasiswa\n",
    "add_student(\"Riza\")\n",
    "add_student(\"Cindy\")\n",
    "add_student(\"Ikha\")\n",
    "\n",
    "# Menampilkan daftar mahasiswa\n",
    "print(\"Daftar Mahasiswa:\")\n",
    "show_students()\n",
    "\n",
    "# Mengedit data mahasiswa di indeks ke-1\n",
    "edit_student(1, \"Rahma\")\n",
    "\n",
    "# Menghapus mahasiswa dengan nama \"Riza\"\n",
    "del_student(\"Riza\")\n",
    "\n",
    "# Menampilkan daftar mahasiswa setelah perubahan\n",
    "print(\"\\nDaftar Mahasiswa Setelah Perubahan:\")\n",
    "show_students()\n"
   ]
  }
 ],
 "metadata": {
  "kernelspec": {
   "display_name": "base",
   "language": "python",
   "name": "python3"
  },
  "language_info": {
   "codemirror_mode": {
    "name": "ipython",
    "version": 3
   },
   "file_extension": ".py",
   "mimetype": "text/x-python",
   "name": "python",
   "nbconvert_exporter": "python",
   "pygments_lexer": "ipython3",
   "version": "3.11.5"
  }
 },
 "nbformat": 4,
 "nbformat_minor": 2
}
